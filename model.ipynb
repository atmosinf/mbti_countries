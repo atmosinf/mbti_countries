{
 "cells": [
  {
   "cell_type": "markdown",
   "id": "naked-madness",
   "metadata": {},
   "source": [
    "Import the necessary libraries"
   ]
  },
  {
   "cell_type": "code",
   "execution_count": 57,
   "id": "canadian-status",
   "metadata": {},
   "outputs": [],
   "source": [
    "import pandas as pd\n",
    "import numpy as np\n",
    "import matplotlib.pyplot as plt\n",
    "import seaborn as sns\n",
    "import pickle"
   ]
  },
  {
   "cell_type": "markdown",
   "id": "assigned-estonia",
   "metadata": {},
   "source": [
    "Read in the data"
   ]
  },
  {
   "cell_type": "code",
   "execution_count": 140,
   "id": "fitted-trial",
   "metadata": {},
   "outputs": [],
   "source": [
    "df = pd.read_csv('countries_mbti.csv')"
   ]
  },
  {
   "cell_type": "code",
   "execution_count": 141,
   "id": "sporting-prague",
   "metadata": {},
   "outputs": [
    {
     "data": {
      "text/html": [
       "<div>\n",
       "<style scoped>\n",
       "    .dataframe tbody tr th:only-of-type {\n",
       "        vertical-align: middle;\n",
       "    }\n",
       "\n",
       "    .dataframe tbody tr th {\n",
       "        vertical-align: top;\n",
       "    }\n",
       "\n",
       "    .dataframe thead th {\n",
       "        text-align: right;\n",
       "    }\n",
       "</style>\n",
       "<table border=\"1\" class=\"dataframe\">\n",
       "  <thead>\n",
       "    <tr style=\"text-align: right;\">\n",
       "      <th></th>\n",
       "      <th>Country</th>\n",
       "      <th>E</th>\n",
       "      <th>N</th>\n",
       "      <th>T</th>\n",
       "      <th>P</th>\n",
       "      <th>A</th>\n",
       "    </tr>\n",
       "  </thead>\n",
       "  <tbody>\n",
       "    <tr>\n",
       "      <th>0</th>\n",
       "      <td>Austria</td>\n",
       "      <td>46.52</td>\n",
       "      <td>67.76</td>\n",
       "      <td>41.45</td>\n",
       "      <td>57.53</td>\n",
       "      <td>42.33</td>\n",
       "    </tr>\n",
       "    <tr>\n",
       "      <th>1</th>\n",
       "      <td>Belgium</td>\n",
       "      <td>49.89</td>\n",
       "      <td>64.69</td>\n",
       "      <td>37.09</td>\n",
       "      <td>58.29</td>\n",
       "      <td>41.87</td>\n",
       "    </tr>\n",
       "    <tr>\n",
       "      <th>2</th>\n",
       "      <td>Czechia</td>\n",
       "      <td>43.26</td>\n",
       "      <td>65.29</td>\n",
       "      <td>45.43</td>\n",
       "      <td>57.34</td>\n",
       "      <td>41.17</td>\n",
       "    </tr>\n",
       "    <tr>\n",
       "      <th>3</th>\n",
       "      <td>Denmark</td>\n",
       "      <td>49.29</td>\n",
       "      <td>63.03</td>\n",
       "      <td>36.77</td>\n",
       "      <td>56.44</td>\n",
       "      <td>45.99</td>\n",
       "    </tr>\n",
       "    <tr>\n",
       "      <th>4</th>\n",
       "      <td>Estonia</td>\n",
       "      <td>43.08</td>\n",
       "      <td>64.43</td>\n",
       "      <td>42.04</td>\n",
       "      <td>57.46</td>\n",
       "      <td>38.92</td>\n",
       "    </tr>\n",
       "    <tr>\n",
       "      <th>5</th>\n",
       "      <td>Finland</td>\n",
       "      <td>40.70</td>\n",
       "      <td>62.50</td>\n",
       "      <td>40.42</td>\n",
       "      <td>58.84</td>\n",
       "      <td>42.04</td>\n",
       "    </tr>\n",
       "    <tr>\n",
       "      <th>6</th>\n",
       "      <td>France</td>\n",
       "      <td>49.00</td>\n",
       "      <td>61.29</td>\n",
       "      <td>42.05</td>\n",
       "      <td>56.78</td>\n",
       "      <td>42.95</td>\n",
       "    </tr>\n",
       "    <tr>\n",
       "      <th>7</th>\n",
       "      <td>Germany</td>\n",
       "      <td>43.83</td>\n",
       "      <td>65.62</td>\n",
       "      <td>42.10</td>\n",
       "      <td>56.46</td>\n",
       "      <td>42.00</td>\n",
       "    </tr>\n",
       "    <tr>\n",
       "      <th>8</th>\n",
       "      <td>Greece</td>\n",
       "      <td>50.03</td>\n",
       "      <td>66.47</td>\n",
       "      <td>45.85</td>\n",
       "      <td>52.31</td>\n",
       "      <td>39.39</td>\n",
       "    </tr>\n",
       "    <tr>\n",
       "      <th>9</th>\n",
       "      <td>Hungary</td>\n",
       "      <td>44.93</td>\n",
       "      <td>67.01</td>\n",
       "      <td>45.60</td>\n",
       "      <td>54.20</td>\n",
       "      <td>40.69</td>\n",
       "    </tr>\n",
       "    <tr>\n",
       "      <th>10</th>\n",
       "      <td>Iceland</td>\n",
       "      <td>48.61</td>\n",
       "      <td>65.86</td>\n",
       "      <td>33.90</td>\n",
       "      <td>59.52</td>\n",
       "      <td>42.84</td>\n",
       "    </tr>\n",
       "    <tr>\n",
       "      <th>11</th>\n",
       "      <td>Italy</td>\n",
       "      <td>43.06</td>\n",
       "      <td>70.17</td>\n",
       "      <td>43.73</td>\n",
       "      <td>54.27</td>\n",
       "      <td>36.49</td>\n",
       "    </tr>\n",
       "    <tr>\n",
       "      <th>12</th>\n",
       "      <td>Latvia</td>\n",
       "      <td>42.02</td>\n",
       "      <td>63.53</td>\n",
       "      <td>48.57</td>\n",
       "      <td>58.81</td>\n",
       "      <td>37.81</td>\n",
       "    </tr>\n",
       "    <tr>\n",
       "      <th>13</th>\n",
       "      <td>Lithuania</td>\n",
       "      <td>38.81</td>\n",
       "      <td>66.22</td>\n",
       "      <td>49.61</td>\n",
       "      <td>59.86</td>\n",
       "      <td>38.20</td>\n",
       "    </tr>\n",
       "    <tr>\n",
       "      <th>14</th>\n",
       "      <td>Luxembourg</td>\n",
       "      <td>49.61</td>\n",
       "      <td>61.09</td>\n",
       "      <td>40.47</td>\n",
       "      <td>53.41</td>\n",
       "      <td>44.54</td>\n",
       "    </tr>\n",
       "    <tr>\n",
       "      <th>15</th>\n",
       "      <td>Malta</td>\n",
       "      <td>48.43</td>\n",
       "      <td>63.86</td>\n",
       "      <td>37.53</td>\n",
       "      <td>53.67</td>\n",
       "      <td>37.55</td>\n",
       "    </tr>\n",
       "    <tr>\n",
       "      <th>16</th>\n",
       "      <td>Netherlands</td>\n",
       "      <td>52.07</td>\n",
       "      <td>62.22</td>\n",
       "      <td>35.55</td>\n",
       "      <td>56.66</td>\n",
       "      <td>46.99</td>\n",
       "    </tr>\n",
       "    <tr>\n",
       "      <th>17</th>\n",
       "      <td>Norway</td>\n",
       "      <td>48.46</td>\n",
       "      <td>61.39</td>\n",
       "      <td>37.66</td>\n",
       "      <td>55.61</td>\n",
       "      <td>45.25</td>\n",
       "    </tr>\n",
       "    <tr>\n",
       "      <th>18</th>\n",
       "      <td>Poland</td>\n",
       "      <td>40.34</td>\n",
       "      <td>67.46</td>\n",
       "      <td>51.16</td>\n",
       "      <td>57.01</td>\n",
       "      <td>38.43</td>\n",
       "    </tr>\n",
       "    <tr>\n",
       "      <th>19</th>\n",
       "      <td>Portugal</td>\n",
       "      <td>40.70</td>\n",
       "      <td>67.83</td>\n",
       "      <td>37.41</td>\n",
       "      <td>57.99</td>\n",
       "      <td>38.01</td>\n",
       "    </tr>\n",
       "    <tr>\n",
       "      <th>20</th>\n",
       "      <td>Slovakia</td>\n",
       "      <td>42.97</td>\n",
       "      <td>65.98</td>\n",
       "      <td>45.92</td>\n",
       "      <td>54.80</td>\n",
       "      <td>42.56</td>\n",
       "    </tr>\n",
       "    <tr>\n",
       "      <th>21</th>\n",
       "      <td>Slovenia</td>\n",
       "      <td>47.51</td>\n",
       "      <td>64.67</td>\n",
       "      <td>42.51</td>\n",
       "      <td>55.38</td>\n",
       "      <td>41.66</td>\n",
       "    </tr>\n",
       "    <tr>\n",
       "      <th>22</th>\n",
       "      <td>Spain</td>\n",
       "      <td>50.45</td>\n",
       "      <td>67.44</td>\n",
       "      <td>37.18</td>\n",
       "      <td>57.02</td>\n",
       "      <td>43.70</td>\n",
       "    </tr>\n",
       "    <tr>\n",
       "      <th>23</th>\n",
       "      <td>Sweden</td>\n",
       "      <td>49.95</td>\n",
       "      <td>60.29</td>\n",
       "      <td>39.24</td>\n",
       "      <td>55.35</td>\n",
       "      <td>46.10</td>\n",
       "    </tr>\n",
       "    <tr>\n",
       "      <th>24</th>\n",
       "      <td>Switzerland</td>\n",
       "      <td>53.60</td>\n",
       "      <td>62.06</td>\n",
       "      <td>39.56</td>\n",
       "      <td>53.86</td>\n",
       "      <td>47.65</td>\n",
       "    </tr>\n",
       "    <tr>\n",
       "      <th>25</th>\n",
       "      <td>Canada</td>\n",
       "      <td>47.53</td>\n",
       "      <td>59.25</td>\n",
       "      <td>34.44</td>\n",
       "      <td>52.48</td>\n",
       "      <td>40.91</td>\n",
       "    </tr>\n",
       "    <tr>\n",
       "      <th>26</th>\n",
       "      <td>USA</td>\n",
       "      <td>49.60</td>\n",
       "      <td>59.21</td>\n",
       "      <td>35.20</td>\n",
       "      <td>52.96</td>\n",
       "      <td>42.84</td>\n",
       "    </tr>\n",
       "  </tbody>\n",
       "</table>\n",
       "</div>"
      ],
      "text/plain": [
       "        Country      E      N      T      P      A\n",
       "0       Austria  46.52  67.76  41.45  57.53  42.33\n",
       "1       Belgium  49.89  64.69  37.09  58.29  41.87\n",
       "2       Czechia  43.26  65.29  45.43  57.34  41.17\n",
       "3       Denmark  49.29  63.03  36.77  56.44  45.99\n",
       "4       Estonia  43.08  64.43  42.04  57.46  38.92\n",
       "5       Finland  40.70  62.50  40.42  58.84  42.04\n",
       "6        France  49.00  61.29  42.05  56.78  42.95\n",
       "7       Germany  43.83  65.62  42.10  56.46  42.00\n",
       "8        Greece  50.03  66.47  45.85  52.31  39.39\n",
       "9       Hungary  44.93  67.01  45.60  54.20  40.69\n",
       "10      Iceland  48.61  65.86  33.90  59.52  42.84\n",
       "11        Italy  43.06  70.17  43.73  54.27  36.49\n",
       "12       Latvia  42.02  63.53  48.57  58.81  37.81\n",
       "13    Lithuania  38.81  66.22  49.61  59.86  38.20\n",
       "14   Luxembourg  49.61  61.09  40.47  53.41  44.54\n",
       "15        Malta  48.43  63.86  37.53  53.67  37.55\n",
       "16  Netherlands  52.07  62.22  35.55  56.66  46.99\n",
       "17       Norway  48.46  61.39  37.66  55.61  45.25\n",
       "18       Poland  40.34  67.46  51.16  57.01  38.43\n",
       "19     Portugal  40.70  67.83  37.41  57.99  38.01\n",
       "20     Slovakia  42.97  65.98  45.92  54.80  42.56\n",
       "21     Slovenia  47.51  64.67  42.51  55.38  41.66\n",
       "22        Spain  50.45  67.44  37.18  57.02  43.70\n",
       "23       Sweden  49.95  60.29  39.24  55.35  46.10\n",
       "24  Switzerland  53.60  62.06  39.56  53.86  47.65\n",
       "25       Canada  47.53  59.25  34.44  52.48  40.91\n",
       "26          USA  49.60  59.21  35.20  52.96  42.84"
      ]
     },
     "execution_count": 141,
     "metadata": {},
     "output_type": "execute_result"
    }
   ],
   "source": [
    "df"
   ]
  },
  {
   "cell_type": "markdown",
   "id": "loving-richardson",
   "metadata": {},
   "source": [
    "Import libraries for training"
   ]
  },
  {
   "cell_type": "code",
   "execution_count": 60,
   "id": "intended-clerk",
   "metadata": {},
   "outputs": [],
   "source": [
    "from sklearn.preprocessing import StandardScaler"
   ]
  },
  {
   "cell_type": "code",
   "execution_count": 61,
   "id": "three-xerox",
   "metadata": {},
   "outputs": [],
   "source": [
    "scaler = StandardScaler()"
   ]
  },
  {
   "cell_type": "code",
   "execution_count": 245,
   "id": "blessed-single",
   "metadata": {},
   "outputs": [],
   "source": [
    "dffilt = df"
   ]
  },
  {
   "cell_type": "code",
   "execution_count": 199,
   "id": "photographic-gabriel",
   "metadata": {},
   "outputs": [],
   "source": [
    "dffilt = df[(df['Country'] != 'Switzerland')\n",
    "        & (df['Country'] != 'USA') \n",
    "        & (df['Country'] != 'Canada') \n",
    "        & (df['Country'] != 'Luxembourg')\n",
    "        & (df['Country'] != 'Sweden') ]\n",
    "#         & (df['Country'] != 'Netherlands')]"
   ]
  },
  {
   "cell_type": "code",
   "execution_count": 215,
   "id": "rough-killer",
   "metadata": {},
   "outputs": [],
   "source": [
    "df1 = scaler.fit_transform(dffilt.drop('Country',axis=1))"
   ]
  },
  {
   "cell_type": "code",
   "execution_count": 216,
   "id": "express-navigation",
   "metadata": {},
   "outputs": [
    {
     "data": {
      "text/plain": [
       "array([[ 0.01679388,  1.22486489,  0.08537384,  0.67776578,  0.17354175],\n",
       "       [ 0.87046709,  0.13197952, -0.85302093,  1.03437485,  0.01991463],\n",
       "       [-0.80901463,  0.34557275,  0.9419819 ,  0.58861351, -0.21386577],\n",
       "       [ 0.7184778 , -0.45896175, -0.92189394,  0.1663133 ,  1.39587926],\n",
       "       [-0.85461142,  0.03942245,  0.21235845,  0.64492021, -0.96530277],\n",
       "       [-1.45750229, -0.64763577, -0.13631117,  1.29244721,  0.07668987],\n",
       "       [ 0.6450163 , -1.07838212,  0.21451073,  0.32584893,  0.38060438],\n",
       "       [-0.6646248 ,  0.46304903,  0.22527214,  0.17569774,  0.06333099],\n",
       "       [ 0.90593126,  0.76563944,  1.03237772, -1.77157548, -0.80833593],\n",
       "       [-0.38597776,  0.95787335,  0.97857068, -0.88474502, -0.37417233],\n",
       "       [ 0.54622326,  0.54848632, -1.53959875,  1.61151849,  0.34386746],\n",
       "       [-0.85967773,  2.0827977 ,  0.57609403, -0.85189945, -1.77685472],\n",
       "       [-1.12312584, -0.28096739,  1.61779831,  1.27837054, -1.33601169],\n",
       "       [-1.93626858,  0.67664226,  1.84163559,  1.77105412, -1.20576261],\n",
       "       [ 0.79953875, -1.14957987, -0.12554976, -1.25543077,  0.91161986],\n",
       "       [ 0.50062647, -0.16349112, -0.75832054, -1.13343293, -1.4228444 ],\n",
       "       [ 1.42269487, -0.74731261, -1.18447229,  0.26954224,  1.72985126],\n",
       "       [ 0.50822594, -1.04278325, -0.73034088, -0.22314135,  1.14873998],\n",
       "       [-1.54869587,  1.11806827,  2.17523923,  0.4337701 , -1.12894905],\n",
       "       [-1.45750229,  1.2497841 , -0.78414792,  0.89360812, -1.26921729],\n",
       "       [-0.88247612,  0.59120497,  1.04744369, -0.60321155,  0.25035531],\n",
       "       [ 0.26757622,  0.12485975,  0.31351568, -0.33106252, -0.05021949],\n",
       "       [ 1.01232377,  1.1109485 , -0.83365039,  0.43846232,  0.63108338],\n",
       "       [ 0.88566602, -1.43437084, -0.39028039, -0.34513919,  1.43261618],\n",
       "       [ 1.81026757, -0.80427081, -0.32140738, -1.04428066,  1.95027277],\n",
       "       [ 0.27264253, -1.80459911, -1.42337554, -1.69180766, -0.30069849],\n",
       "       [ 0.7970056 , -1.81883866, -1.25980214, -1.46658088,  0.34386746]])"
      ]
     },
     "execution_count": 216,
     "metadata": {},
     "output_type": "execute_result"
    }
   ],
   "source": [
    "df1"
   ]
  },
  {
   "cell_type": "code",
   "execution_count": 217,
   "id": "complicated-swimming",
   "metadata": {},
   "outputs": [],
   "source": [
    "from sklearn.neighbors import KNeighborsClassifier"
   ]
  },
  {
   "cell_type": "code",
   "execution_count": 218,
   "id": "looking-richards",
   "metadata": {},
   "outputs": [],
   "source": [
    "X = df1\n",
    "y = dffilt['Country']"
   ]
  },
  {
   "cell_type": "code",
   "execution_count": 230,
   "id": "previous-community",
   "metadata": {},
   "outputs": [],
   "source": [
    "kn = KNeighborsClassifier(n_neighbors=1)"
   ]
  },
  {
   "cell_type": "code",
   "execution_count": 225,
   "id": "lyric-milwaukee",
   "metadata": {},
   "outputs": [
    {
     "data": {
      "text/plain": [
       "KNeighborsClassifier()"
      ]
     },
     "execution_count": 225,
     "metadata": {},
     "output_type": "execute_result"
    }
   ],
   "source": [
    "kn.fit(X,y)"
   ]
  },
  {
   "cell_type": "code",
   "execution_count": 226,
   "id": "amateur-identity",
   "metadata": {},
   "outputs": [],
   "source": [
    "xtest = np.array([70,60,27,33,60]).reshape(1,-1)\n",
    "xtest = scaler.transform(xtest)"
   ]
  },
  {
   "cell_type": "code",
   "execution_count": 227,
   "id": "atlantic-lying",
   "metadata": {},
   "outputs": [
    {
     "data": {
      "text/plain": [
       "array([[  5.96464167,  -1.53760757,  -3.02467302, -10.83226127,\n",
       "          6.07482695]])"
      ]
     },
     "execution_count": 227,
     "metadata": {},
     "output_type": "execute_result"
    }
   ],
   "source": [
    "xtest"
   ]
  },
  {
   "cell_type": "code",
   "execution_count": 235,
   "id": "inside-coffee",
   "metadata": {},
   "outputs": [],
   "source": [
    "k = kn.predict(xtest)"
   ]
  },
  {
   "cell_type": "code",
   "execution_count": 237,
   "id": "medieval-disorder",
   "metadata": {},
   "outputs": [
    {
     "data": {
      "text/plain": [
       "'Switzerland'"
      ]
     },
     "execution_count": 237,
     "metadata": {},
     "output_type": "execute_result"
    }
   ],
   "source": [
    "k[0]"
   ]
  },
  {
   "cell_type": "code",
   "execution_count": 33,
   "id": "figured-garlic",
   "metadata": {},
   "outputs": [
    {
     "data": {
      "text/plain": [
       "<AxesSubplot:ylabel='Frequency'>"
      ]
     },
     "execution_count": 33,
     "metadata": {},
     "output_type": "execute_result"
    },
    {
     "data": {
      "image/png": "[encoded data removed]",
      "text/plain": [
       "<Figure size 432x288 with 1 Axes>"
      ]
     },
     "metadata": {
      "needs_background": "light"
     },
     "output_type": "display_data"
    }
   ],
   "source": [
    "df['E'].plot.hist(bins=25)"
   ]
  },
  {
   "cell_type": "code",
   "execution_count": 250,
   "id": "aboriginal-smith",
   "metadata": {},
   "outputs": [],
   "source": [
    "pred = []\n",
    "dffilt = df\n",
    "for i in range(df.shape[0]):\n",
    "    df1 = scaler.fit_transform(dffilt.drop('Country',axis=1))\n",
    "    X = df1\n",
    "    y = dffilt['Country']\n",
    "    kn = KNeighborsClassifier(n_neighbors=1)\n",
    "    kn.fit(X,y)\n",
    "    xtest = np.array([70,60,27,33,60]).reshape(1,-1)\n",
    "    xtest = scaler.transform(xtest)\n",
    "    pred.append(kn.predict(xtest)[0])\n",
    "    dffilt = dffilt[dffilt['Country'] != pred[-1]]"
   ]
  },
  {
   "cell_type": "markdown",
   "id": "experimental-celtic",
   "metadata": {},
   "source": [
    "**Top Countries**"
   ]
  },
  {
   "cell_type": "code",
   "execution_count": 252,
   "id": "upset-barrel",
   "metadata": {},
   "outputs": [
    {
     "data": {
      "text/plain": [
       "['Switzerland',\n",
       " 'USA',\n",
       " 'Luxembourg',\n",
       " 'Canada',\n",
       " 'Sweden',\n",
       " 'Netherlands',\n",
       " 'Norway',\n",
       " 'Denmark',\n",
       " 'Greece',\n",
       " 'France',\n",
       " 'Slovenia',\n",
       " 'Spain',\n",
       " 'Malta',\n",
       " 'Hungary',\n",
       " 'Slovakia',\n",
       " 'Germany',\n",
       " 'Belgium',\n",
       " 'Austria',\n",
       " 'Iceland',\n",
       " 'Czechia',\n",
       " 'Estonia',\n",
       " 'Italy',\n",
       " 'Finland',\n",
       " 'Poland',\n",
       " 'Lithuania',\n",
       " 'Portugal',\n",
       " 'Latvia']"
      ]
     },
     "execution_count": 252,
     "metadata": {},
     "output_type": "execute_result"
    }
   ],
   "source": [
    "pred"
   ]
  },
  {
   "cell_type": "code",
   "execution_count": null,
   "id": "typical-performance",
   "metadata": {},
   "outputs": [],
   "source": []
  }
 ],
 "metadata": {
  "kernelspec": {
   "display_name": "booksenv",
   "language": "python",
   "name": "booksenv"
  },
  "language_info": {
   "codemirror_mode": {
    "name": "ipython",
    "version": 3
   },
   "file_extension": ".py",
   "mimetype": "text/x-python",
   "name": "python",
   "nbconvert_exporter": "python",
   "pygments_lexer": "ipython3",
   "version": "3.7.11"
  }
 },
 "nbformat": 4,
 "nbformat_minor": 5
}
